{
 "cells": [
  {
   "cell_type": "markdown",
   "metadata": {},
   "source": [
    "# Waste Classification Training (Colab Ready)\n",
    "\n",
    "Notebook này hướng dẫn toàn bộ pipeline: chuẩn bị dữ liệu, huấn luyện mô hình CNN/Transfer Learning, đánh giá và tạo demo Gradio."
   ]
  },
  {
   "cell_type": "markdown",
   "metadata": {},
   "source": [
    "## 1. Thiết lập môi trường\n",
    "- Chạy trên GPU (Runtime → Change runtime type → GPU)\n",
    "- Kết nối Google Drive nếu dữ liệu/model lưu trên đó."
   ]
  },
  {
   "cell_type": "code",
   "execution_count": null,
   "metadata": {},
   "outputs": [],
   "source": [
    "#@title Mount Google Drive (tùy chọn)\n",
    "from google.colab import drive\n",
    "drive.mount('/content/drive')"
   ]
  },
  {
   "cell_type": "code",
   "execution_count": null,
   "metadata": {},
   "outputs": [],
   "source": [
    "#@title Cài đặt phụ thuộc\n",
    "!pip install -q torch torchvision torchaudio --index-url https://download.pytorch.org/whl/cu121\n",
    "!pip install -q albumentations==1.4.7 timm==1.0.3 grad-cam==1.5.5 gradio==4.44.0 scikit-learn==1.5.2"
   ]
  },
  {
   "cell_type": "markdown",
   "metadata": {},
   "source": [
    "## 2. Chuẩn bị dự án\n",
    "- Nếu đã upload project lên GitHub, clone trực tiếp.\n",
    "- Nếu làm việc trên Drive, unzip project vào `/content/TrashProject`."
   ]
  },
  {
   "cell_type": "code",
   "execution_count": null,
   "metadata": {},
   "outputs": [],
   "source": [
    "#@title Clone hoặc đồng bộ mã nguồn\n",
    "import os, shutil, zipfile, sys\n",
    "\n",
    "PROJECT_PATH = \"/content/TrashProject\"  # chỉnh sửa nếu cần\n",
    "GIT_REPO_URL = \"https://github.com/<your-account>/TrashProject.git\"  # TODO: cập nhật\n",
    "\n",
    "if not os.path.exists(PROJECT_PATH):\n",
    "    !git clone $GIT_REPO_URL $PROJECT_PATH\n",
    "else:\n",
    "    print(f\"Sử dụng thư mục có sẵn: {PROJECT_PATH}\")\n",
    "\n",
    "sys.path.append(PROJECT_PATH)\n",
    "os.chdir(PROJECT_PATH)"
   ]
  },
  {
   "cell_type": "markdown",
   "metadata": {},
   "source": [
    "## 3. Tải và tiền xử lý dữ liệu\n",
    "- Ví dụ dưới đây minh họa tải TrashNet từ Kaggle và tách train/val/test.\n",
    "- Có thể thay bằng dataset tự thu thập (đưa vào `data/raw`)."
   ]
  },
  {
   "cell_type": "code",
   "execution_count": null,
   "metadata": {},
   "outputs": [],
   "source": [
    "#@title Tải TrashNet từ Kaggle (tùy chọn)\n",
    "# Yêu cầu tạo ~/.kaggle/kaggle.json trước khi chạy\n",
    "DOWNLOAD_DATA = False  #@param {type:\"boolean\"}\n",
    "DATA_ROOT = \"/content/TrashProject/data\"  #@param {type:\"string\"}\n",
    "\n",
    "os.makedirs(DATA_ROOT, exist_ok=True)\n",
    "\n",
    "if DOWNLOAD_DATA:\n",
    "    !kaggle datasets download -d asdasdasasdas/garbage-classification\n",
    "    with zipfile.ZipFile(\"garbage-classification.zip\", \"r\") as zf:\n",
    "        zf.extractall(DATA_ROOT)\n",
    "    os.remove(\"garbage-classification.zip\")\n",
    "\n",
    "print(f\"Data folder: {DATA_ROOT}\")"
   ]
  },
  {
   "cell_type": "code",
   "execution_count": null,
   "metadata": {},
   "outputs": [],
   "source": [
    "#@title Tạo train/val/test split (70/20/10)\n",
    "from pathlib import Path\n",
    "import random\n",
    "import shutil\n",
    "\n",
    "raw_dir = Path(DATA_ROOT) / \"raw\"\n",
    "train_dir = Path(DATA_ROOT) / \"train\"\n",
    "val_dir = Path(DATA_ROOT) / \"val\"\n",
    "test_dir = Path(DATA_ROOT) / \"test\"\n",
    "\n",
    "for folder in [train_dir, val_dir, test_dir]:\n",
    "    folder.mkdir(parents=True, exist_ok=True)\n",
    "\n",
    "if raw_dir.exists():\n",
    "    for class_dir in raw_dir.iterdir():\n",
    "        if not class_dir.is_dir():\n",
    "            continue\n",
    "        images = list(class_dir.glob(\"*\"))\n",
    "        random.shuffle(images)\n",
    "        n = len(images)\n",
    "        n_train = int(0.7 * n)\n",
    "        n_val = int(0.2 * n)\n",
    "        splits = {\n",
    "            train_dir / class_dir.name: images[:n_train],\n",
    "            val_dir / class_dir.name: images[n_train:n_train + n_val],\n",
    "            test_dir / class_dir.name: images[n_train + n_val:],\n",
    "        }\n",
    "        for split_dir, split_imgs in splits.items():\n",
    "            split_dir.mkdir(parents=True, exist_ok=True)\n",
    "            for img_path in split_imgs:\n",
    "                shutil.copy(img_path, split_dir / img_path.name)\n",
    "    print(\"Hoàn thành chia tập dữ liệu.\")\n",
    "else:\n",
    "    print(\"Bỏ qua bước chia tập vì không tìm thấy data/raw.\")"
   ]
  },
  {
   "cell_type": "markdown",
   "metadata": {},
   "source": [
    "## 4. Cấu hình và huấn luyện\n",
    "Sử dụng lớp `WasteTrainer` trong `src/training/trainer.py`."
   ]
  },
  {
   "cell_type": "code",
   "execution_count": null,
   "metadata": {},
   "outputs": [],
   "source": [
    "#@title Khởi tạo cấu hình huấn luyện\n",
    "from pathlib import Path\n",
    "\n",
    "from src.training.dataset import DataConfig\n",
    "from src.training.losses import LossConfig\n",
    "from src.training.optim import OptimConfig, SchedulerConfig\n",
    "from src.training.trainer import TrainConfig, WasteTrainer\n",
    "\n",
    "data_cfg = DataConfig(\n",
    "    train_dir=Path(DATA_ROOT) / \"train\",\n",
    "    val_dir=Path(DATA_ROOT) / \"val\",\n",
    "    test_dir=Path(DATA_ROOT) / \"test\",\n",
    "    img_size=224,\n",
    "    batch_size=32,\n",
    "    num_workers=2,\n",
    ")\n",
    "\n",
    "train_cfg = TrainConfig(\n",
    "    data=data_cfg,\n",
    "    loss=LossConfig(name=\"focal\", gamma=2.0),\n",
    "    optim=OptimConfig(name=\"adamw\", lr=3e-4, weight_decay=1e-4),\n",
    "    scheduler=SchedulerConfig(name=\"onecycle\", max_lr=1e-3),\n",
    "    epochs=15,\n",
    "    model_name=\"resnet18\",\n",
    "    freeze_backbone_epochs=5,\n",
    "    output_dir=Path(\"artifacts\"),\n",
    ")\n",
    "\n",
    "trainer = WasteTrainer(train_cfg)"
   ]
  },
  {
   "cell_type": "code",
   "execution_count": null,
   "metadata": {
    "cellView": "form"
   },
   "outputs": [],
   "source": [
    "#@title Bắt đầu huấn luyện\n",
    "report, cm = trainer.train()\n",
    "report"
   ]
  },
  {
   "cell_type": "code",
   "execution_count": null,
   "metadata": {},
   "outputs": [],
   "source": [
    "#@title Hiển thị ma trận nhầm lẫn\n",
    "import matplotlib.pyplot as plt\n",
    "import seaborn as sns\n",
    "import torch\n",
    "\n",
    "if cm is not None:\n",
    "    cm_np = cm.numpy() if isinstance(cm, torch.Tensor) else cm\n",
    "    plt.figure(figsize=(8, 6))\n",
    "    sns.heatmap(cm_np, annot=True, fmt=\"d\", cmap=\"Blues\", xticklabels=trainer.idx_to_class.values(), yticklabels=trainer.idx_to_class.values())\n",
    "    plt.xlabel(\"Predicted\")\n",
    "    plt.ylabel(\"True\")\n",
    "    plt.show()\n",
    "else:\n",
    "    print(\"Chưa có tập test để vẽ confusion matrix.\")"
   ]
  },
  {
   "cell_type": "markdown",
   "metadata": {},
   "source": [
    "## 5. Demo Gradio\n",
    "Tải trọng số tốt nhất và tạo UI đơn giản cho phép người dùng upload ảnh."
   ]
  },
  {
   "cell_type": "code",
   "execution_count": null,
   "metadata": {},
   "outputs": [],
   "source": [
    "#@title Khởi tạo Gradio demo\n",
    "import gradio as gr\n",
    "from torchvision import transforms\n",
    "from PIL import Image\n",
    "import torch\n",
    "\n",
    "model = trainer.model\n",
    "checkpoint = torch.load(trainer.config.output_dir / \"best.pt\", map_location=trainer.device)\n",
    "model.load_state_dict(checkpoint[\"model_state\"])\n",
    "model.eval()\n",
    "\n",
    "preprocess = transforms.Compose(\n",
    "    [\n",
    "        transforms.Resize(256),\n",
    "        transforms.CenterCrop(224),\n",
    "        transforms.ToTensor(),\n",
    "        transforms.Normalize(mean=[0.485, 0.456, 0.406], std=[0.229, 0.224, 0.225]),\n",
    "    ]\n",
    ")\n",
    "\n",
    "class_names = [trainer.idx_to_class[idx] for idx in sorted(trainer.idx_to_class)]\n",
    "\n",
    "def predict(image: Image.Image):\n",
    "    tensor = preprocess(image).unsqueeze(0).to(trainer.device)\n",
    "    with torch.no_grad():\n",
    "        logits = model(tensor)\n",
    "        probs = torch.softmax(logits, dim=1).cpu().numpy()[0]\n",
    "    return {class_names[i]: float(probs[i]) for i in range(len(class_names))}\n",
    "\n",
    "gr.Interface(fn=predict, inputs=gr.Image(type=\"pil\"), outputs=gr.Label(num_top_classes=3)).launch(share=False)"
   ]
  },
  {
   "cell_type": "markdown",
   "metadata": {},
   "source": [
    "## 6. Lưu kết quả và tải xuống\n",
    "- Lưu lại mô hình, báo cáo metrics vào Drive.\n",
    "- Đảm bảo cập nhật báo cáo đồ án với bảng kết quả và nhận xét."
   ]
  }
 ],
 "metadata": {
  "kernelspec": {
   "display_name": "Python 3",
   "language": "python",
   "name": "python3"
  },
  "language_info": {
   "name": "python",
   "version": ""
  }
 },
 "nbformat": 4,
 "nbformat_minor": 5
}
